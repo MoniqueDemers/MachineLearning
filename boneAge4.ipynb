{
 "cells": [
  {
   "cell_type": "code",
   "execution_count": 1,
   "metadata": {},
   "outputs": [
    {
     "name": "stderr",
     "output_type": "stream",
     "text": [
      "Using TensorFlow backend.\n",
      "/anaconda3/lib/python3.7/importlib/_bootstrap.py:219: RuntimeWarning: compiletime version 3.6 of module 'tensorflow.python.framework.fast_tensor_util' does not match runtime version 3.7\n",
      "  return f(*args, **kwds)\n"
     ]
    }
   ],
   "source": [
    "import keras\n",
    "import pandas as pd\n",
    "import numpy as np\n",
    "from keras.preprocessing import image\n",
    "from keras.applications.vgg16 import VGG16\n",
    "from keras.applications.vgg16 import preprocess_input\n",
    "from keras import Sequential\n",
    "from keras.layers import Flatten, Dense, Conv2D, MaxPooling2D\n",
    "from keras.utils import to_categorical\n",
    "from keras.initializers import RandomUniform\n",
    "\n",
    "%matplotlib inline"
   ]
  },
  {
   "cell_type": "code",
   "execution_count": 33,
   "metadata": {},
   "outputs": [
    {
     "name": "stdout",
     "output_type": "stream",
     "text": [
      "12611\n",
      "1240\n"
     ]
    }
   ],
   "source": [
    "boneData = pd.read_csv('boneage-training-dataset.csv')\n",
    "paths = []\n",
    "print(len(boneData['id']))\n",
    "boneData = boneData[(boneData.boneage <= 4.*12) | (boneData.boneage >= 15.5*12)]\n",
    "for i in boneData['id']:\n",
    "    paths.append('boneage-training-dataset/' + str(i) + '.png')\n",
    "print(len(paths))"
   ]
  },
  {
   "cell_type": "code",
   "execution_count": 19,
   "metadata": {},
   "outputs": [
    {
     "name": "stderr",
     "output_type": "stream",
     "text": [
      "/anaconda3/lib/python3.7/site-packages/keras_preprocessing/image.py:492: UserWarning: grayscale is deprecated. Please use color_mode = \"grayscale\"\n",
      "  warnings.warn('grayscale is deprecated. Please use '\n"
     ]
    }
   ],
   "source": [
    "X = []\n",
    "for path in paths:\n",
    "    img = image.load_img(path, target_size=(500,500), grayscale=True)\n",
    "    img = image.img_to_array(img)\n",
    "    X.append(img)"
   ]
  },
  {
   "cell_type": "code",
   "execution_count": 32,
   "metadata": {},
   "outputs": [
    {
     "name": "stdout",
     "output_type": "stream",
     "text": [
      "[ 12  36 188   4  36  24  30  33  24  32]\n",
      "[0 0 1 0 0 0 0 0 0 0]\n",
      "0.5419354838709678\n"
     ]
    }
   ],
   "source": [
    "Y = np.array(boneData['boneage'])\n",
    "#print(Y.max())\n",
    "#print(np.median(Y))\n",
    "#print(Y.min())\n",
    "\n",
    "print(Y[0:10])\n",
    "\n",
    "pos = 0\n",
    "for i in range(0,len(Y)):\n",
    "    if(Y[i]/12)< 11: \n",
    "        Y[i] = 0\n",
    "    else: \n",
    "        Y[i] = 1\n",
    "        pos += 1\n",
    "        \n",
    "print(Y[0:10])\n",
    "print(float(pos/len(Y)))\n",
    "split = float(pos/len(Y))\n",
    "Y = to_categorical(Y)"
   ]
  },
  {
   "cell_type": "code",
   "execution_count": 5,
   "metadata": {},
   "outputs": [],
   "source": [
    "yTrain = Y[:1000]\n",
    "yVal = Y[1000:]"
   ]
  },
  {
   "cell_type": "code",
   "execution_count": 20,
   "metadata": {},
   "outputs": [],
   "source": [
    "xTrain = np.array(X)"
   ]
  },
  {
   "cell_type": "code",
   "execution_count": 21,
   "metadata": {},
   "outputs": [],
   "source": [
    "xTrain = xTrain/255.\n",
    "xTrain = xTrain.astype(np.float32)"
   ]
  },
  {
   "cell_type": "code",
   "execution_count": 22,
   "metadata": {},
   "outputs": [],
   "source": [
    "xVal = xTrain[1000:]\n",
    "xTrain = xTrain[:1000]"
   ]
  },
  {
   "cell_type": "code",
   "execution_count": 24,
   "metadata": {},
   "outputs": [],
   "source": [
    "x = xTrain"
   ]
  },
  {
   "cell_type": "code",
   "execution_count": 34,
   "metadata": {},
   "outputs": [
    {
     "name": "stdout",
     "output_type": "stream",
     "text": [
      "built\n",
      "compiled\n",
      "Train on 1000 samples, validate on 240 samples\n",
      "Epoch 1/5\n",
      "1000/1000 [==============================] - 489s 489ms/step - loss: 7.4541 - acc: 0.5350 - val_loss: 0.6921 - val_acc: 0.5583\n",
      "Epoch 2/5\n",
      "1000/1000 [==============================] - 487s 487ms/step - loss: 7.4541 - acc: 0.5350 - val_loss: 0.6921 - val_acc: 0.5583\n",
      "Epoch 3/5\n",
      "1000/1000 [==============================] - 493s 493ms/step - loss: 7.4541 - acc: 0.5350 - val_loss: 0.6921 - val_acc: 0.5583\n",
      "Epoch 4/5\n",
      "1000/1000 [==============================] - 544s 544ms/step - loss: 7.4541 - acc: 0.5350 - val_loss: 0.6921 - val_acc: 0.5583\n",
      "Epoch 5/5\n",
      "1000/1000 [==============================] - 578s 578ms/step - loss: 7.4541 - acc: 0.5350 - val_loss: 0.6921 - val_acc: 0.5583\n",
      "trained\n"
     ]
    }
   ],
   "source": [
    "kmodel = Sequential([\n",
    "    Conv2D(16, (10,10), input_shape=(500, 500, 1), activation='relu'),\n",
    "    MaxPooling2D(pool_size=(2,2)),\n",
    "    \n",
    "    Conv2D(32, (3, 3), input_shape=(500, 500, 1), activation='relu'),\n",
    "    MaxPooling2D(pool_size=(2, 2)),\n",
    "\n",
    "    Conv2D(32, (3, 3), activation='relu'),\n",
    "    MaxPooling2D(pool_size=(2, 2)),\n",
    "\n",
    "    Conv2D(64, (3, 3), activation='relu'),\n",
    "    MaxPooling2D(pool_size=(2, 2)),\n",
    "\n",
    "    keras.layers.Flatten(input_shape=(200, 200, 1)),\n",
    "    keras.layers.Dense(20, activation=\"relu\"),\n",
    "    keras.layers.Dense(10, activation=\"relu\"),\n",
    "    keras.layers.Dense(2, activation = 'softmax')\n",
    "])\n",
    "print(\"built\")\n",
    "kmodel.compile(optimizer='adam',\n",
    "              loss='binary_crossentropy',\n",
    "              metrics=['accuracy'])\n",
    "print(\"compiled\")\n",
    "fittedModel = kmodel.fit(xTrain, yTrain, validation_data=[xVal,yVal], epochs = 5)\n",
    "print(\"trained\")"
   ]
  },
  {
   "cell_type": "code",
   "execution_count": null,
   "metadata": {},
   "outputs": [],
   "source": []
  },
  {
   "cell_type": "code",
   "execution_count": 35,
   "metadata": {},
   "outputs": [],
   "source": [
    "sgd = keras.optimizers.SGD(lr = .01)\n",
    "kmodel.compile(optimizer = sgd, loss = 'categorical_crossentropy', metrics=['accuracy'], )"
   ]
  },
  {
   "cell_type": "code",
   "execution_count": null,
   "metadata": {},
   "outputs": [
    {
     "name": "stdout",
     "output_type": "stream",
     "text": [
      "Train on 1000 samples, validate on 240 samples\n",
      "Epoch 1/10\n",
      "1000/1000 [==============================] - 479s 479ms/step - loss: 7.4949 - acc: 0.5350 - val_loss: 0.6921 - val_acc: 0.5583\n",
      "Epoch 2/10\n",
      "1000/1000 [==============================] - 518s 518ms/step - loss: 7.4949 - acc: 0.5350 - val_loss: 0.6921 - val_acc: 0.5583\n",
      "Epoch 3/10\n",
      " 704/1000 [====================>.........] - ETA: 2:02 - loss: 7.4638 - acc: 0.5369"
     ]
    }
   ],
   "source": [
    "h = kmodel.fit(xTrain, yTrain, epochs = 10, validation_data=[xVal, yVal], verbose = 1)"
   ]
  },
  {
   "cell_type": "code",
   "execution_count": null,
   "metadata": {},
   "outputs": [],
   "source": [
    "print(h.history['acc'])\n",
    "print(split)"
   ]
  }
 ],
 "metadata": {
  "kernelspec": {
   "display_name": "Python 3",
   "language": "python",
   "name": "python3"
  },
  "language_info": {
   "codemirror_mode": {
    "name": "ipython",
    "version": 3
   },
   "file_extension": ".py",
   "mimetype": "text/x-python",
   "name": "python",
   "nbconvert_exporter": "python",
   "pygments_lexer": "ipython3",
   "version": "3.7.0"
  }
 },
 "nbformat": 4,
 "nbformat_minor": 2
}
