{
 "cells": [
  {
   "cell_type": "code",
   "execution_count": 31,
   "metadata": {},
   "outputs": [],
   "source": [
    "import keras\n",
    "import pandas as pd\n",
    "import numpy as np\n",
    "from keras.preprocessing import image\n",
    "from keras.applications.vgg16 import VGG16\n",
    "from keras.applications.vgg16 import preprocess_input\n",
    "from keras import Sequential\n",
    "from keras.layers import Flatten, Dense\n",
    "from keras.utils import to_categorical\n",
    "from keras.initializers import RandomUniform\n",
    "\n",
    "%matplotlib inline"
   ]
  },
  {
   "cell_type": "code",
   "execution_count": 7,
   "metadata": {},
   "outputs": [
    {
     "name": "stdout",
     "output_type": "stream",
     "text": [
      "12611\n",
      "1240\n"
     ]
    }
   ],
   "source": [
    "boneData = pd.read_csv('boneage-training-dataset.csv')\n",
    "paths = []\n",
    "print(len(boneData['id']))\n",
    "boneData = boneData[(boneData.boneage <= 4.*12) | (boneData.boneage >= 15.5*12)]\n",
    "for i in boneData['id']:\n",
    "    paths.append('boneage-training-dataset/' + str(i) + '.png')\n",
    "print(len(paths))"
   ]
  },
  {
   "cell_type": "code",
   "execution_count": 8,
   "metadata": {},
   "outputs": [],
   "source": [
    "X = []\n",
    "for path in paths:\n",
    "    img = image.load_img(path, target_size=(224,224))\n",
    "    img = image.img_to_array(img)\n",
    "    X.append(img)"
   ]
  },
  {
   "cell_type": "code",
   "execution_count": 9,
   "metadata": {},
   "outputs": [
    {
     "name": "stdout",
     "output_type": "stream",
     "text": [
      "[ 12  36 188   4  36  24  30  33  24  32]\n",
      "[0 0 1 0 0 0 0 0 0 0]\n",
      "0.5419354838709678\n"
     ]
    }
   ],
   "source": [
    "Y = np.array(boneData['boneage'])\n",
    "#print(Y.max())\n",
    "#print(np.median(Y))\n",
    "#print(Y.min())\n",
    "\n",
    "print(Y[0:10])\n",
    "\n",
    "pos = 0\n",
    "for i in range(0,len(Y)):\n",
    "    if(Y[i]/12)< 11: \n",
    "        Y[i] = 0\n",
    "    else: \n",
    "        Y[i] = 1\n",
    "        pos += 1\n",
    "        \n",
    "print(Y[0:10])\n",
    "print(float(pos/len(Y)))\n",
    "split = float(pos/len(Y))\n",
    "Y = to_categorical(Y)"
   ]
  },
  {
   "cell_type": "code",
   "execution_count": 13,
   "metadata": {},
   "outputs": [],
   "source": [
    "yTrain = Y[:1000]\n",
    "yVal = Y[1000:]"
   ]
  },
  {
   "cell_type": "code",
   "execution_count": 11,
   "metadata": {},
   "outputs": [],
   "source": [
    "xTrain = np.array(X)"
   ]
  },
  {
   "cell_type": "code",
   "execution_count": 12,
   "metadata": {},
   "outputs": [],
   "source": [
    "xTrain = xTrain/255.\n",
    "xTrain = xTrain.astype(np.float32)"
   ]
  },
  {
   "cell_type": "code",
   "execution_count": 14,
   "metadata": {},
   "outputs": [],
   "source": [
    "xVal = xTrain[1000:]\n",
    "xTrain = xTrain[:1000]"
   ]
  },
  {
   "cell_type": "code",
   "execution_count": 15,
   "metadata": {},
   "outputs": [],
   "source": [
    "x = xTrain\n",
    "x = preprocess_input(x)"
   ]
  },
  {
   "cell_type": "code",
   "execution_count": 19,
   "metadata": {},
   "outputs": [],
   "source": [
    "model = VGG16(weights='imagenet', include_top=True)"
   ]
  },
  {
   "cell_type": "code",
   "execution_count": 20,
   "metadata": {},
   "outputs": [],
   "source": [
    "model2 = VGG16(weights=None, include_top = True, classes = 2)"
   ]
  },
  {
   "cell_type": "code",
   "execution_count": 32,
   "metadata": {},
   "outputs": [],
   "source": [
    "kinit = RandomUniform()"
   ]
  },
  {
   "cell_type": "code",
   "execution_count": 43,
   "metadata": {},
   "outputs": [],
   "source": [
    "kmodel = Sequential([\n",
    "    Flatten(input_shape = (224, 224, 3)),\n",
    "    Dense(1000, activation = 'relu', kernel_initializer = kinit),\n",
    "    Dense(500, activation = 'relu', kernel_initializer = kinit),\n",
    "    Dense(750, activation = 'relu', kernel_initializer = kinit),\n",
    "    Dense(200, activation = 'relu', kernel_initializer = kinit),\n",
    "    Dense(100, activation = 'relu', kernel_initializer = kinit),\n",
    "    Dense(50, activation = 'relu', kernel_initializer = kinit),\n",
    "    Dense(25, activation = 'relu', kernel_initializer = kinit),\n",
    "    Dense(10, activation = 'relu', kernel_initializer = kinit),\n",
    "    Dense(2, activation = 'softmax', kernel_initializer = kinit)\n",
    "])"
   ]
  },
  {
   "cell_type": "code",
   "execution_count": 44,
   "metadata": {},
   "outputs": [],
   "source": [
    "sgd = keras.optimizers.SGD(lr = .01)\n",
    "kmodel.compile(optimizer = sgd, loss = 'categorical_crossentropy', metrics=['accuracy'], )"
   ]
  },
  {
   "cell_type": "code",
   "execution_count": null,
   "metadata": {},
   "outputs": [
    {
     "name": "stdout",
     "output_type": "stream",
     "text": [
      "Train on 1000 samples, validate on 240 samples\n",
      "Epoch 1/10\n",
      "1000/1000 [==============================] - 46s 46ms/step - loss: 0.6926 - acc: 0.5350 - val_loss: 0.6917 - val_acc: 0.5708\n",
      "Epoch 2/10\n",
      " 992/1000 [============================>.] - ETA: 0s - loss: 0.6918 - acc: 0.5353"
     ]
    }
   ],
   "source": [
    "h = kmodel.fit(xTrain, yTrain, epochs = 10, validation_data=[xVal, yVal], class_weight = model.weights, verbose = 1)"
   ]
  },
  {
   "cell_type": "code",
   "execution_count": 98,
   "metadata": {},
   "outputs": [
    {
     "name": "stdout",
     "output_type": "stream",
     "text": [
      "[0.5687, 0.5687, 0.5687]\n",
      "0.5640314011577194\n"
     ]
    }
   ],
   "source": [
    "print(h.history['acc'])\n",
    "print(split)"
   ]
  },
  {
   "cell_type": "code",
   "execution_count": null,
   "metadata": {},
   "outputs": [],
   "source": [
    "model.compile(optimizer = sgd, loss = 'categorical_crossentropy', metrics=['accuracy'])"
   ]
  },
  {
   "cell_type": "code",
   "execution_count": null,
   "metadata": {},
   "outputs": [],
   "source": [
    "model2.compile(optimizer = sgd, loss='categorical_crossentropy', metrics=['accuracy'])"
   ]
  },
  {
   "cell_type": "code",
   "execution_count": 99,
   "metadata": {
    "scrolled": true
   },
   "outputs": [
    {
     "name": "stdout",
     "output_type": "stream",
     "text": [
      "Train on 10000 samples, validate on 2611 samples\n",
      "Epoch 1/3\n",
      "10000/10000 [==============================] - 22079s 2s/step - loss: 9.1664 - acc: 0.4313 - val_loss: 8.8029 - val_acc: 0.4538\n",
      "Epoch 2/3\n",
      "10000/10000 [==============================] - 19209s 2s/step - loss: 9.1664 - acc: 0.4313 - val_loss: 8.8029 - val_acc: 0.4538\n",
      "Epoch 3/3\n",
      "10000/10000 [==============================] - 36962s 4s/step - loss: 9.1664 - acc: 0.4313 - val_loss: 8.8029 - val_acc: 0.4538\n"
     ]
    }
   ],
   "source": [
    "vgg162 = model2.fit(x=xTrain, y=yTrain, validation_data=[xVal,yVal], epochs=3, class_weight = model.weights, batch_size = 128)"
   ]
  },
  {
   "cell_type": "code",
   "execution_count": null,
   "metadata": {},
   "outputs": [],
   "source": [
    "print(vggh162.history['acc'])\n",
    "print(vggh162.history['val_acc'])"
   ]
  }
 ],
 "metadata": {
  "kernelspec": {
   "display_name": "Python 3",
   "language": "python",
   "name": "python3"
  },
  "language_info": {
   "codemirror_mode": {
    "name": "ipython",
    "version": 3
   },
   "file_extension": ".py",
   "mimetype": "text/x-python",
   "name": "python",
   "nbconvert_exporter": "python",
   "pygments_lexer": "ipython3",
   "version": "3.7.0"
  }
 },
 "nbformat": 4,
 "nbformat_minor": 2
}
