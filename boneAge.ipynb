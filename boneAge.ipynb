{
 "cells": [
  {
   "cell_type": "markdown",
   "metadata": {},
   "source": [
    "##Boneage Determinition with Machine Learning Methods\n",
    "\n",
    "images can be found at original kaggle challenge: https://www.kaggle.com/kmader/rsna-bone-age/version/2#boneage-test-dataset.csv\n",
    "\n",
    "some code borrowed from: https://www.kaggle.com/kmader/bone-age-overview/notebook\n",
    "\n",
    "Overview:\n",
    "\n"
   ]
  },
  {
   "cell_type": "markdown",
   "metadata": {},
   "source": [
    "Import Libraries"
   ]
  },
  {
   "cell_type": "code",
   "execution_count": 92,
   "metadata": {},
   "outputs": [],
   "source": [
    "import numpy as np\n",
    "import pandas as pd\n",
    "import matplotlib.pyplot as plt\n",
    "import tensorflow as tf\n",
    "from sklearn.model_selection import cross_val_score, KFold\n",
    "import keras\n",
    "from keras.preprocessing import image\n",
    "from keras import Sequential\n",
    "from keras.layers import Flatten, Dense\n",
    "from keras.wrappers.scikit_learn import KerasRegressor\n",
    "from keras import regularizers\n",
    "\n",
    "%matplotlib inline\n"
   ]
  },
  {
   "cell_type": "code",
   "execution_count": 2,
   "metadata": {
    "scrolled": true
   },
   "outputs": [],
   "source": [
    "boneData = pd.read_csv('boneage-training-dataset.csv')\n",
    "paths = []\n",
    "for i in boneData['id']:\n",
    "    paths.append('boneage-training-dataset/' + str(i) + '.png')"
   ]
  },
  {
   "cell_type": "code",
   "execution_count": 3,
   "metadata": {},
   "outputs": [
    {
     "name": "stdout",
     "output_type": "stream",
     "text": [
      "(200, 200, 1)\n",
      "(200, 200)\n"
     ]
    },
    {
     "name": "stderr",
     "output_type": "stream",
     "text": [
      "/anaconda3/lib/python3.7/site-packages/keras_preprocessing/image.py:492: UserWarning: grayscale is deprecated. Please use color_mode = \"grayscale\"\n",
      "  warnings.warn('grayscale is deprecated. Please use '\n"
     ]
    }
   ],
   "source": [
    "img = image.load_img(paths[0], grayscale=True, target_size=(200,200))\n",
    "img = image.img_to_array(img)\n",
    "print(img.shape)\n",
    "img = img.reshape(200,200)\n",
    "print(img.shape)"
   ]
  },
  {
   "cell_type": "code",
   "execution_count": 4,
   "metadata": {},
   "outputs": [
    {
     "name": "stderr",
     "output_type": "stream",
     "text": [
      "/anaconda3/lib/python3.7/site-packages/keras_preprocessing/image.py:492: UserWarning: grayscale is deprecated. Please use color_mode = \"grayscale\"\n",
      "  warnings.warn('grayscale is deprecated. Please use '\n"
     ]
    }
   ],
   "source": [
    "X = []\n",
    "for path in paths:\n",
    "    img = image.load_img(path, grayscale=True, target_size=(200, 200))\n",
    "    img = image.img_to_array(img)   \n",
    "    img = img.reshape(200,200)\n",
    "    X.append(img)"
   ]
  },
  {
   "cell_type": "code",
   "execution_count": 5,
   "metadata": {},
   "outputs": [],
   "source": [
    "Y = np.array(boneData['boneage'])"
   ]
  },
  {
   "cell_type": "code",
   "execution_count": 6,
   "metadata": {},
   "outputs": [
    {
     "data": {
      "text/plain": [
       "(12611, 200, 200)"
      ]
     },
     "execution_count": 6,
     "metadata": {},
     "output_type": "execute_result"
    }
   ],
   "source": [
    "X = np.array(X)\n",
    "X.shape"
   ]
  },
  {
   "cell_type": "code",
   "execution_count": 7,
   "metadata": {},
   "outputs": [
    {
     "name": "stdout",
     "output_type": "stream",
     "text": [
      "(10000, 200, 200) (2611, 200, 200)\n"
     ]
    }
   ],
   "source": [
    "trainX = X[:10000,:,:]\n",
    "testX = X[10000:,:,:]\n",
    "print(trainX.shape, testX.shape)"
   ]
  },
  {
   "cell_type": "code",
   "execution_count": 8,
   "metadata": {},
   "outputs": [],
   "source": [
    "trainY = Y[:10000]\n",
    "testY = Y[10000:]"
   ]
  },
  {
   "cell_type": "code",
   "execution_count": 113,
   "metadata": {},
   "outputs": [
    {
     "name": "stdout",
     "output_type": "stream",
     "text": [
      "built\n",
      "compiled\n",
      "Epoch 1/10\n",
      "10000/10000 [==============================] - 7s 680us/step - loss: 5790.3787 - acc: 0.0059\n",
      "Epoch 2/10\n",
      "10000/10000 [==============================] - 6s 600us/step - loss: 3830.6922 - acc: 0.0071\n",
      "Epoch 3/10\n",
      "10000/10000 [==============================] - 6s 624us/step - loss: 3280.1267 - acc: 0.0076\n",
      "Epoch 4/10\n",
      "10000/10000 [==============================] - 7s 660us/step - loss: 2846.2167 - acc: 0.0072\n",
      "Epoch 5/10\n",
      "10000/10000 [==============================] - 6s 610us/step - loss: 2759.0450 - acc: 0.0089\n",
      "Epoch 6/10\n",
      "10000/10000 [==============================] - 7s 651us/step - loss: 2650.0827 - acc: 0.0087\n",
      "Epoch 7/10\n",
      "10000/10000 [==============================] - 7s 723us/step - loss: 2664.5065 - acc: 0.00860s - loss:\n",
      "Epoch 8/10\n",
      "10000/10000 [==============================] - 7s 737us/step - loss: 2617.4619 - acc: 0.0093\n",
      "Epoch 9/10\n",
      "10000/10000 [==============================] - 6s 625us/step - loss: 2591.3615 - acc: 0.0090\n",
      "Epoch 10/10\n",
      "10000/10000 [==============================] - 7s 684us/step - loss: 2421.2804 - acc: 0.0106\n",
      "trained\n"
     ]
    }
   ],
   "source": [
    "\n",
    "model = keras.Sequential([\n",
    "    keras.layers.Flatten(input_shape=(200, 200)),\n",
    "    keras.layers.Dense(50, kernel_initializer = 'normal', activation=tf.nn.relu),\n",
    "    keras.layers.Dense(25, kernel_initializer = 'normal', activation=tf.nn.relu),\n",
    "    keras.layers.Dense(1, kernel_regularizer=regularizers.l1(.05), activity_regularizer=regularizers.l1(0.05))\n",
    "])\n",
    "print(\"built\")\n",
    "model.compile(optimizer=tf.train.AdamOptimizer(),\n",
    "              loss='mean_squared_error',\n",
    "              metrics=['accuracy'])\n",
    "print(\"compiled\")\n",
    "model.fit(trainX, trainY, epochs = 3)\n",
    "print(\"trained\")"
   ]
  },
  {
   "cell_type": "code",
   "execution_count": 114,
   "metadata": {},
   "outputs": [],
   "source": [
    "estimator = KerasRegressor(build_fn=buildModel, epochs=100, batch_size=5, verbose=0)"
   ]
  },
  {
   "cell_type": "code",
   "execution_count": 115,
   "metadata": {},
   "outputs": [
    {
     "name": "stdout",
     "output_type": "stream",
     "text": [
      "2611/2611 [==============================] - 1s 329us/step\n",
      "1549.5072635342362 0.013787820764037213\n"
     ]
    }
   ],
   "source": [
    "test_loss, test_acc = model.evaluate(testX, testY)\n",
    "print(test_loss, test_acc)"
   ]
  }
 ],
 "metadata": {
  "kernelspec": {
   "display_name": "Python 3",
   "language": "python",
   "name": "python3"
  },
  "language_info": {
   "codemirror_mode": {
    "name": "ipython",
    "version": 3
   },
   "file_extension": ".py",
   "mimetype": "text/x-python",
   "name": "python",
   "nbconvert_exporter": "python",
   "pygments_lexer": "ipython3",
   "version": "3.7.0"
  }
 },
 "nbformat": 4,
 "nbformat_minor": 2
}
